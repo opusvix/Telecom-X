{
 "cells": [
  {
   "cell_type": "markdown",
   "id": "51db3c9d",
   "metadata": {},
   "source": [
    "# 📊 Telecom X - Análise de Evasão de Clientes\n",
    "\n",
    "Este notebook tem como objetivo analisar o problema de evasão (churn) de clientes da empresa Telecom X.  \n",
    "O objetivo é identificar padrões e comportamentos que ajudem a empresa a compreender melhor os fatores que contribuem para o cancelamento de serviços.\n",
    "\n",
    "---"
   ]
  },
  {
   "cell_type": "code",
   "execution_count": null,
   "id": "378eef82",
   "metadata": {},
   "outputs": [],
   "source": [
    "# Pacotes principais\n",
    "import pandas as pd\n",
    "import numpy as np\n",
    "import matplotlib.pyplot as plt\n",
    "import seaborn as sns\n",
    "import json\n",
    "\n",
    "# Estilo dos gráficos\n",
    "sns.set(style=\"whitegrid\")\n",
    "plt.rcParams[\"figure.figsize\"] = (10, 6)\n"
   ]
  },
  {
   "cell_type": "code",
   "execution_count": null,
   "id": "22dab16b",
   "metadata": {},
   "outputs": [],
   "source": [
    "# Carregar dados do JSON\n",
    "with open('TelecomX_Data.json', 'r', encoding='utf-8') as f:\n",
    "    data_json = json.load(f)\n",
    "\n",
    "# Normalizar JSON aninhado\n",
    "df = pd.json_normalize(data_json)\n",
    "df.head()"
   ]
  },
  {
   "cell_type": "code",
   "execution_count": null,
   "id": "d1e729e2",
   "metadata": {},
   "outputs": [],
   "source": [
    "# Ver estrutura\n",
    "df.info()"
   ]
  },
  {
   "cell_type": "code",
   "execution_count": null,
   "id": "4d61f62e",
   "metadata": {},
   "outputs": [],
   "source": [
    "# Verificar valores nulos\n",
    "print(\"Valores nulos por coluna:\")\n",
    "print(df.isnull().sum())\n",
    "\n",
    "# Verificar duplicatas\n",
    "print(f\"Total de registros duplicados: {df.duplicated().sum()}\")"
   ]
  },
  {
   "cell_type": "code",
   "execution_count": null,
   "id": "9bd862d4",
   "metadata": {},
   "outputs": [],
   "source": [
    "# Converter valores monetários de Total para float\n",
    "df[\"account.Charges.Total\"] = pd.to_numeric(df[\"account.Charges.Total\"], errors='coerce')\n",
    "\n",
    "# Remover linhas com churn vazio\n",
    "df = df[df[\"Churn\"].isin([\"Yes\", \"No\"])]\n"
   ]
  },
  {
   "cell_type": "code",
   "execution_count": null,
   "id": "8f442dcb",
   "metadata": {},
   "outputs": [],
   "source": [
    "# Criar coluna 'Contas Diárias'\n",
    "df[\"DailyCharges\"] = df[\"account.Charges.Monthly\"] / 30\n",
    "df[\"DailyCharges\"] = df[\"DailyCharges\"].round(2)\n",
    "df[[\"account.Charges.Monthly\", \"DailyCharges\"]].head()"
   ]
  },
  {
   "cell_type": "code",
   "execution_count": null,
   "id": "4eabc4b1",
   "metadata": {},
   "outputs": [],
   "source": [
    "# Estatísticas descritivas\n",
    "df.describe(include='all')"
   ]
  },
  {
   "cell_type": "code",
   "execution_count": null,
   "id": "edc7fd26",
   "metadata": {},
   "outputs": [],
   "source": [
    "# Distribuição da evasão\n",
    "sns.countplot(data=df, x=\"Churn\", palette=\"pastel\")\n",
    "plt.title(\"Distribuição da Evasão de Clientes\")\n",
    "plt.show()"
   ]
  },
  {
   "cell_type": "code",
   "execution_count": null,
   "id": "203f5a65",
   "metadata": {},
   "outputs": [],
   "source": [
    "# Evasão por tipo de contrato\n",
    "sns.countplot(data=df, x=\"account.Contract\", hue=\"Churn\", palette=\"Set2\")\n",
    "plt.title(\"Churn por Tipo de Contrato\")\n",
    "plt.show()"
   ]
  },
  {
   "cell_type": "code",
   "execution_count": null,
   "id": "ddf454ab",
   "metadata": {},
   "outputs": [],
   "source": [
    "# Boxplot: Total gasto vs Churn\n",
    "sns.boxplot(data=df, x=\"Churn\", y=\"account.Charges.Total\", palette=\"Set3\")\n",
    "plt.title(\"Total Gasto por Clientes - Churn vs Não Churn\")\n",
    "plt.show()"
   ]
  },
  {
   "cell_type": "code",
   "execution_count": null,
   "id": "4f3500ab",
   "metadata": {},
   "outputs": [],
   "source": [
    "# Correlação entre variáveis numéricas\n",
    "corr = df[[\"account.Charges.Monthly\", \"account.Charges.Total\", \"customer.tenure\", \"DailyCharges\"]].corr()\n",
    "sns.heatmap(corr, annot=True, cmap=\"coolwarm\", fmt=\".2f\")\n",
    "plt.title(\"Correlação entre Variáveis Numéricas\")\n",
    "plt.show()"
   ]
  },
  {
   "cell_type": "markdown",
   "id": "f248bccf",
   "metadata": {},
   "source": [
    "## 🧠 Conclusões e Insights\n",
    "\n",
    "- Clientes com contratos mensais têm maior taxa de evasão.\n",
    "- Quanto menor o tempo de contrato (tenure), maior a chance de churn.\n",
    "- Faturas mensais altas não necessariamente indicam churn, mas valores baixos com contratos curtos tendem a mostrar maior evasão.\n",
    "\n",
    "## 📌 Recomendações\n",
    "\n",
    "- Oferecer descontos ou benefícios para clientes com contratos mensais.\n",
    "- Monitorar clientes com menor tempo de casa e ações de fidelização antecipada.\n",
    "- Explorar modelos preditivos para atuar proativamente sobre grupos de risco.\n",
    "\n",
    "---"
   ]
  }
 ],
 "metadata": {},
 "nbformat": 4,
 "nbformat_minor": 5
}
